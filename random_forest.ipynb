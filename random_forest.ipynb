{
 "cells": [
  {
   "cell_type": "code",
   "execution_count": 1,
   "metadata": {},
   "outputs": [],
   "source": [
    "import pandas as pd\n",
    "import numpy as np\n",
    "from __future__ import print_function\n",
    "import csv\n",
    "import pandas as pd\n",
    "import math\n",
    "from random import randrange\n",
    "from math import sqrt\n",
    "import copy\n",
    "from sklearn.model_selection import train_test_split\n",
    "from sklearn.ensemble import RandomForestClassifier\n",
    "from sklearn.metrics import accuracy_score\n"
   ]
  },
  {
   "cell_type": "code",
   "execution_count": 2,
   "metadata": {},
   "outputs": [],
   "source": [
    "df = pd.read_csv(\"spam_data.csv\", delim_whitespace=True, header=None)\n",
    "X=df.drop([57],axis=1)\n"
   ]
  },
  {
   "cell_type": "code",
   "execution_count": 3,
   "metadata": {},
   "outputs": [],
   "source": [
    "y=df[57]"
   ]
  },
  {
   "cell_type": "code",
   "execution_count": 4,
   "metadata": {},
   "outputs": [],
   "source": [
    "def unique_vals(rows, col):\n",
    "    return set([row[col] for row in rows])\n"
   ]
  },
  {
   "cell_type": "code",
   "execution_count": 5,
   "metadata": {},
   "outputs": [],
   "source": [
    "\n",
    "def class_counts(rows):\n",
    "    counts = {} \n",
    "    for row in rows:\n",
    "        \n",
    "        label = row[-1]\n",
    "        if label not in counts:\n",
    "            counts[label] = 0\n",
    "        counts[label] += 1\n",
    "    return counts\n"
   ]
  },
  {
   "cell_type": "code",
   "execution_count": 6,
   "metadata": {},
   "outputs": [],
   "source": [
    "def is_numeric(value):\n",
    "    return isinstance(value, int) or isinstance(value, float)\n"
   ]
  },
  {
   "cell_type": "code",
   "execution_count": 7,
   "metadata": {},
   "outputs": [],
   "source": [
    "def partition(rows, question):\n",
    "    true_rows, false_rows = [], []\n",
    "    for row in rows:\n",
    "        if question.match(row):\n",
    "            true_rows.append(row)\n",
    "        else:\n",
    "            false_rows.append(row)\n",
    "    return true_rows, false_rows\n"
   ]
  },
  {
   "cell_type": "code",
   "execution_count": 8,
   "metadata": {},
   "outputs": [],
   "source": [
    "def gini(rows):\n",
    "    counts = class_counts(rows)\n",
    "    impurity = 1\n",
    "    for lbl in counts:\n",
    "        prob_of_lbl = counts[lbl] / float(len(rows))\n",
    "        impurity -= prob_of_lbl**2\n",
    "    return impurity\n"
   ]
  },
  {
   "cell_type": "code",
   "execution_count": 9,
   "metadata": {},
   "outputs": [],
   "source": [
    "def find_log(a):\n",
    "    b = math.log(a, 2)\n",
    "    return b\n"
   ]
  },
  {
   "cell_type": "code",
   "execution_count": 10,
   "metadata": {},
   "outputs": [],
   "source": [
    "def info_gain(left, right, current_uncertainty):\n",
    "    p = float(len(left)) / (len(left) + len(right))\n",
    "    return current_uncertainty - p * gini(left) - (1 - p) * gini(right)\n",
    "    \n"
   ]
  },
  {
   "cell_type": "code",
   "execution_count": 11,
   "metadata": {},
   "outputs": [],
   "source": [
    "class Question:\n",
    "    def __init__(self, column, value):\n",
    "        self.column = column\n",
    "        self.value = value\n",
    "\n",
    "    def match(self, example):\n",
    "     \n",
    "        val = example[self.column]\n",
    "        if is_numeric(val):\n",
    "            return val >= self.value\n",
    "        else:\n",
    "            return val == self.value\n",
    "\n",
    "    def __repr__(self):\n",
    "        condition = \"==\"\n",
    "        if is_numeric(self.value):\n",
    "            condition = \">=\"\n",
    "        return \"Is %s %s %s?\" % (\n",
    "            self.column, condition, str(self.value))\n"
   ]
  },
  {
   "cell_type": "code",
   "execution_count": 12,
   "metadata": {},
   "outputs": [],
   "source": [
    "class Leaf:\n",
    "    \n",
    "\n",
    "    def __init__(self, rows):\n",
    "        self.predictions = class_counts(rows)\n"
   ]
  },
  {
   "cell_type": "code",
   "execution_count": 13,
   "metadata": {},
   "outputs": [],
   "source": [
    "class Decision_Node:\n",
    "\n",
    "    def __init__(self,\n",
    "                 question,\n",
    "                 true_branch,\n",
    "                 false_branch):\n",
    "        self.question = question\n",
    "        self.true_branch = true_branch\n",
    "        self.false_branch = false_branch\n"
   ]
  },
  {
   "cell_type": "code",
   "execution_count": 14,
   "metadata": {},
   "outputs": [],
   "source": [
    "\n",
    "def find_best_split(rows,features):\n",
    "  \n",
    "    best_gain = 0  \n",
    "    best_question = None  \n",
    "    current_uncertainty = gini(rows)\n",
    "\n",
    "    for col in features: \n",
    "\n",
    "        values = set([row[col] for row in rows]) \n",
    "\n",
    "        for val in values:  \n",
    "\n",
    "            question = Question(col, val)\n",
    "\n",
    "           \n",
    "            true_rows, false_rows = partition(rows, question)\n",
    "\n",
    "           \n",
    "            if len(true_rows) == 0 or len(false_rows) == 0:\n",
    "                continue\n",
    "\n",
    "            \n",
    "            gain = info_gain(true_rows, false_rows, current_uncertainty)\n",
    "\n",
    "            \n",
    "            if gain >= best_gain:\n",
    "                best_gain, best_question = gain, question\n",
    "\n",
    "    return best_gain, best_question\n"
   ]
  },
  {
   "cell_type": "code",
   "execution_count": 15,
   "metadata": {},
   "outputs": [],
   "source": [
    "def build_tree(rows,features):\n",
    "    \n",
    "    gain, question = find_best_split(rows,features)\n",
    "\n",
    "    \n",
    "    if gain == 0:\n",
    "        return Leaf(rows)\n",
    "\n",
    "  \n",
    "    true_rows, false_rows = partition(rows, question)\n",
    "\n",
    "   \n",
    "    true_branch = build_tree(true_rows,features)\n",
    "\n",
    "   \n",
    "    false_branch = build_tree(false_rows, features)\n",
    "\n",
    "   \n",
    "    return Decision_Node(question, true_branch, false_branch)\n"
   ]
  },
  {
   "cell_type": "code",
   "execution_count": 16,
   "metadata": {},
   "outputs": [],
   "source": [
    "def print_tree(node, spacing=\"\"):\n",
    "    \n",
    "\n",
    "   \n",
    "    if isinstance(node, Leaf):\n",
    "        print(spacing + \"Predict\", node.predictions)\n",
    "        return\n",
    "\n",
    "    \n",
    "    print(spacing + str(node.question))\n",
    "\n",
    "   \n",
    "    print(spacing + '--> True:')\n",
    "    print_tree(node.true_branch, spacing + \"  \")\n",
    "\n",
    "    \n",
    "    print(spacing + '--> False:')\n",
    "    print_tree(node.false_branch, spacing + \"  \")\n"
   ]
  },
  {
   "cell_type": "code",
   "execution_count": 17,
   "metadata": {},
   "outputs": [],
   "source": [
    "def classify(row, node):\n",
    "\n",
    "    if isinstance(node, Leaf):\n",
    "        return node.predictions\n",
    "\n",
    "\n",
    "    if node.question.match(row):\n",
    "        return classify(row, node.true_branch)\n",
    "    else:\n",
    "        return classify(row, node.false_branch)\n"
   ]
  },
  {
   "cell_type": "code",
   "execution_count": null,
   "metadata": {},
   "outputs": [],
   "source": []
  },
  {
   "cell_type": "code",
   "execution_count": null,
   "metadata": {},
   "outputs": [],
   "source": []
  },
  {
   "cell_type": "code",
   "execution_count": 18,
   "metadata": {},
   "outputs": [],
   "source": [
    "def subsample(dataset, ratio):\n",
    "    \n",
    "    sample = []\n",
    "    n_sample = round(len(dataset) * ratio)\n",
    "    while len(sample) < n_sample:\n",
    "        index = randrange(len(dataset))\n",
    "        sample.append(dataset[index])\n",
    "    return sample\n"
   ]
  },
  {
   "cell_type": "code",
   "execution_count": 19,
   "metadata": {},
   "outputs": [],
   "source": [
    "\n",
    "def accuracy_metric(actual, predicted):\n",
    "    \n",
    "    correct = 0\n",
    "    for i in range(len(actual)):\n",
    "        if actual[i] == predicted[i]:\n",
    "            correct += 1\n",
    "    return correct / float(len(actual)) * 100.0\n"
   ]
  },
  {
   "cell_type": "code",
   "execution_count": 20,
   "metadata": {},
   "outputs": [],
   "source": [
    "def test_train_split(data):\n",
    "    K=10\n",
    "    training_set = [x for i, x in enumerate(\n",
    "        data) if i % K != 3 and i % K != 5 and i % K != 7]\n",
    "    test_set = [x for i, x in enumerate(\n",
    "        data) if i % K == 3 or i % K == 5 or i % K == 7]\n",
    "    return training_set,test_set\n"
   ]
  },
  {
   "cell_type": "code",
   "execution_count": 21,
   "metadata": {},
   "outputs": [],
   "source": [
    "def load_dataset():\n",
    "    rows = []\n",
    "    for line in open(\"spam_data.csv\").readlines():\n",
    "        line = line.strip().split(' ')\n",
    "        features = [float(i) for i in line]\n",
    "        rows.append(features)\n",
    "    return rows"
   ]
  },
  {
   "cell_type": "code",
   "execution_count": 22,
   "metadata": {},
   "outputs": [],
   "source": [
    "def predict_and_find_accuracy(tree,test_set):\n",
    "    results=[]\n",
    "    real_ans=[]\n",
    "    for instance in test_set:\n",
    "        result = tree.classify(instance[:-1])\n",
    "        results.append(result)\n",
    "        real_ans.append(float(instance[-1]))\n",
    "    \n",
    "    print(accuracy_metric(real_ans,results))\n"
   ]
  },
  {
   "cell_type": "code",
   "execution_count": 23,
   "metadata": {},
   "outputs": [],
   "source": [
    "def predict(tree,row):\n",
    "    return list(classify(row, tree).keys())[0]\n"
   ]
  },
  {
   "cell_type": "code",
   "execution_count": 24,
   "metadata": {},
   "outputs": [],
   "source": [
    "def bagging_predict(trees, row):\n",
    "     \n",
    "    predictions = [predict(tree, row) for tree in trees]\n",
    "   \n",
    "    return max(set(predictions), key=predictions.count)\n"
   ]
  },
  {
   "cell_type": "code",
   "execution_count": 25,
   "metadata": {},
   "outputs": [],
   "source": [
    "def get_features_list(n_features):\n",
    "    features = []\n",
    "    while len(features) < n_features:\n",
    "        index = randrange(57)\n",
    "        if index not in features:\n",
    "            features.append(index)\n",
    "    return features\n",
    "\n",
    "    \n"
   ]
  },
  {
   "cell_type": "code",
   "execution_count": 26,
   "metadata": {},
   "outputs": [],
   "source": [
    "def random_forest_PART_A(n_trees):\n",
    "    data = load_dataset()\n",
    "    train, test_data = test_train_split(data)\n",
    "    trees = []\n",
    "    n_features = 56\n",
    "    features = get_features_list(n_features)\n",
    "    for i in range(n_trees):\n",
    "        \n",
    "        print(\"Building the tree...\")\n",
    "        print(\"This may take a while, please wait...\")\n",
    "        my_tree = build_tree(train,features)\n",
    "\n",
    "        trees.append(my_tree)\n",
    "    \n",
    "    predictions = [bagging_predict(trees, row) for row in test_data]\n",
    "    real_ans=[]\n",
    "    for instance in test_data:\n",
    "        real_ans.append(instance[-1])\n",
    "    print(\"accuracy of random forest from scratch with \",n_trees,\" trees= \",0.01*accuracy_metric(real_ans, predictions))\n"
   ]
  },
  {
   "cell_type": "code",
   "execution_count": 27,
   "metadata": {},
   "outputs": [],
   "source": [
    "def random_forest_PART_A_SKLEARN_BUILD(n_estimators):\n",
    "    X_train, X_test, y_train, y_test = train_test_split(X, y, test_size=0.3)\n",
    "    clf = RandomForestClassifier(n_estimators=100)\n",
    "    clf.fit(X_train, y_train)\n",
    "    y_pred = clf.predict(X_test)\n",
    "    \n",
    "    print(\"accuracy of random forest using sklearn with \",n_estimators,\" trees = \",\n",
    "          accuracy_score(y_test, y_pred))\n"
   ]
  },
  {
   "cell_type": "code",
   "execution_count": 28,
   "metadata": {},
   "outputs": [
    {
     "name": "stdout",
     "output_type": "stream",
     "text": [
      "accuracy of random forest using sklearn with  3  trees =  0.944967414916727\n",
      "Building the tree...\n",
      "This may take a while, please wait...\n",
      "Building the tree...\n",
      "This may take a while, please wait...\n",
      "Building the tree...\n",
      "This may take a while, please wait...\n",
      "accuracy of random forest from scratch with  3  trees=  0.9021739130434783\n"
     ]
    }
   ],
   "source": [
    "random_forest_PART_A_SKLEARN_BUILD(3)\n",
    "random_forest_PART_A(3)\n"
   ]
  },
  {
   "cell_type": "code",
   "execution_count": 35,
   "metadata": {},
   "outputs": [],
   "source": [
    "def random_forest_PART_B(n):\n",
    "    data = load_dataset()\n",
    "    train, test_data = test_train_split(data)\n",
    "    trees = []\n",
    "    n_trees=3\n",
    "    n_features = randrange(n)\n",
    "    features = get_features_list(n_features)\n",
    "    print(\"number of fetures considered : \",n_features)\n",
    "    for i in range(n_trees):\n",
    "        print(\"Building the tree...\")\n",
    "        print(\"This may take a while, please wait...\")\n",
    "        my_tree = build_tree(train, features)\n",
    "\n",
    "        trees.append(my_tree)\n",
    "    predictions = [bagging_predict(trees, row) for row in test_data]\n",
    "    real_ans = []\n",
    "    for instance in test_data:\n",
    "        real_ans.append(instance[-1])\n",
    "    print(\"accuracy of random forest from scratch with \", n_trees,\n",
    "          \" trees= \", 0.01*accuracy_metric(real_ans, predictions))\n"
   ]
  },
  {
   "cell_type": "code",
   "execution_count": 36,
   "metadata": {},
   "outputs": [
    {
     "name": "stdout",
     "output_type": "stream",
     "text": [
      "number of fetures considered :  16\n",
      "Building the tree...\n",
      "This may take a while, please wait...\n",
      "Building the tree...\n",
      "This may take a while, please wait...\n",
      "Building the tree...\n",
      "This may take a while, please wait...\n",
      "accuracy of random forest from scratch with  3  trees=  0.803623188405797\n",
      "number of fetures considered :  7\n",
      "Building the tree...\n",
      "This may take a while, please wait...\n",
      "Building the tree...\n",
      "This may take a while, please wait...\n",
      "Building the tree...\n",
      "This may take a while, please wait...\n",
      "accuracy of random forest from scratch with  3  trees=  0.7130434782608696\n",
      "number of fetures considered :  30\n",
      "Building the tree...\n",
      "This may take a while, please wait...\n",
      "Building the tree...\n",
      "This may take a while, please wait...\n",
      "Building the tree...\n",
      "This may take a while, please wait...\n",
      "accuracy of random forest from scratch with  3  trees=  0.8384057971014492\n"
     ]
    }
   ],
   "source": [
    "# random_forest_PART_B()\n",
    "random_forest_PART_B(20)\n",
    "random_forest_PART_B(40)\n",
    "random_forest_PART_B(50)\n"
   ]
  },
  {
   "cell_type": "code",
   "execution_count": 34,
   "metadata": {},
   "outputs": [],
   "source": [
    "def random_forest_PART_C(n_trees):\n",
    "    data = load_dataset()\n",
    "    train, test_data = test_train_split(data)\n",
    "    trees = []\n",
    "    n_features=randrange(57)\n",
    "    features=get_features_list(n_features)\n",
    "    for i in range(n_trees):\n",
    "        sample = subsample(train, 1)\n",
    "\n",
    "        \n",
    "        print(\"Building the tree...\")\n",
    "        print(\"This may take a while, please wait...\")\n",
    "        my_tree = build_tree(sample,features)\n",
    "\n",
    "        trees.append(my_tree)\n",
    "    \n",
    "    predictions = [bagging_predict(trees, row) for row in test_data]\n",
    "    real_ans = []\n",
    "    for instance in test_data:\n",
    "        real_ans.append(instance[-1])\n",
    "    print(\"out of bag error with \",n_trees,\" trees = \", 1-0.01*accuracy_metric(real_ans, predictions))\n"
   ]
  },
  {
   "cell_type": "code",
   "execution_count": 35,
   "metadata": {},
   "outputs": [
    {
     "name": "stdout",
     "output_type": "stream",
     "text": [
      "Building the tree...\n",
      "This may take a while, please wait...\n",
      "out of bag error with  1  trees =  0.12463768115942031\n",
      "Building the tree...\n",
      "This may take a while, please wait...\n",
      "Building the tree...\n",
      "This may take a while, please wait...\n",
      "Building the tree...\n",
      "This may take a while, please wait...\n",
      "out of bag error with  3  trees =  0.07608695652173902\n",
      "Building the tree...\n",
      "This may take a while, please wait...\n",
      "Building the tree...\n",
      "This may take a while, please wait...\n",
      "Building the tree...\n",
      "This may take a while, please wait...\n",
      "Building the tree...\n",
      "This may take a while, please wait...\n",
      "Building the tree...\n",
      "This may take a while, please wait...\n",
      "out of bag error with  5  trees =  0.07246376811594202\n"
     ]
    }
   ],
   "source": [
    "random_forest_PART_C(1)\n",
    "random_forest_PART_C(3)\n",
    "random_forest_PART_C(5)\n"
   ]
  },
  {
   "cell_type": "code",
   "execution_count": null,
   "metadata": {},
   "outputs": [],
   "source": []
  }
 ],
 "metadata": {
  "interpreter": {
   "hash": "02e9f4a1a202247ab60d772ba080bd7c30e4ab0b2de6ff2c13595709e56040df"
  },
  "kernelspec": {
   "display_name": "Python 3",
   "language": "python",
   "name": "python3"
  },
  "language_info": {
   "codemirror_mode": {
    "name": "ipython",
    "version": 3
   },
   "file_extension": ".py",
   "mimetype": "text/x-python",
   "name": "python",
   "nbconvert_exporter": "python",
   "pygments_lexer": "ipython3",
   "version": "3.8.8"
  }
 },
 "nbformat": 4,
 "nbformat_minor": 2
}
