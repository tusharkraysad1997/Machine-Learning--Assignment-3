{
 "cells": [
  {
   "cell_type": "code",
   "execution_count": 1,
   "metadata": {},
   "outputs": [],
   "source": [
    "import pandas as pd\n",
    "import numpy as np\n",
    "import datetime\n",
    "from sklearn.ensemble import GradientBoostingClassifier\n",
    "from sklearn.metrics import classification_report\n",
    "from sklearn import tree\n",
    "from sklearn.metrics import accuracy_score\n"
   ]
  },
  {
   "cell_type": "code",
   "execution_count": 2,
   "metadata": {},
   "outputs": [],
   "source": [
    "data=pd.read_csv(\"loan_train.csv\")\n",
    "test_data = pd.read_csv(\"loan_test.csv\")\n"
   ]
  },
  {
   "cell_type": "code",
   "execution_count": 3,
   "metadata": {},
   "outputs": [
    {
     "name": "stderr",
     "output_type": "stream",
     "text": [
      "/opt/anaconda3/lib/python3.8/site-packages/pandas/core/series.py:4509: SettingWithCopyWarning: \n",
      "A value is trying to be set on a copy of a slice from a DataFrame\n",
      "\n",
      "See the caveats in the documentation: https://pandas.pydata.org/pandas-docs/stable/user_guide/indexing.html#returning-a-view-versus-a-copy\n",
      "  return super().replace(\n",
      "<ipython-input-3-abf150ccbd17>:21: SettingWithCopyWarning: \n",
      "A value is trying to be set on a copy of a slice from a DataFrame.\n",
      "Try using .loc[row_indexer,col_indexer] = value instead\n",
      "\n",
      "See the caveats in the documentation: https://pandas.pydata.org/pandas-docs/stable/user_guide/indexing.html#returning-a-view-versus-a-copy\n",
      "  df[\"loan_status\"] = df[\"loan_status\"].astype('int64')\n"
     ]
    }
   ],
   "source": [
    "data=data.dropna(axis=1)\n",
    "test_data=data.dropna(axis=1)\n",
    "nunique = data.nunique()\n",
    "cols_to_drop = nunique[nunique == 1].index\n",
    "data = data.drop(cols_to_drop, axis=1)\n",
    "test_data = test_data.drop(cols_to_drop, axis=1)\n",
    "\n",
    "data[\"term\"] = data[\"term\"].replace('months', '', regex=True).astype('int64')\n",
    "data[\"int_rate\"] = data[\"int_rate\"].replace('%', '', regex=True).astype(float)\n",
    "data.drop([\"url\"], axis=1, inplace=True)\n",
    "\n",
    "test_data[\"term\"] = test_data[\"term\"].replace(\n",
    "    'months', '', regex=True).astype('int64')\n",
    "test_data[\"int_rate\"] = test_data[\"int_rate\"].replace(\n",
    "    '%', '', regex=True).astype(float)\n",
    "test_data.drop([\"url\"], axis=1, inplace=True)\n",
    "\n",
    "df = data[data[\"loan_status\"] != \"Current\"]\n",
    "df[\"loan_status\"].replace(\n",
    "    {\"Fully Paid\": \"1\", \"Charged off\": \"-1\", \"Charged Off\": \"-1\"}, inplace=True)\n",
    "df[\"loan_status\"] = df[\"loan_status\"].astype('int64')\n",
    "\n",
    "test_data = test_data[test_data[\"loan_status\"] != \"Current\"]\n",
    "test_data[\"loan_status\"].replace(\n",
    "    {\"Fully Paid\": \"1\", \"Charged off\": \"-1\", \"Charged Off\": \"-1\"}, inplace=True)\n",
    "test_data[\"loan_status\"] = test_data[\"loan_status\"].astype('int64')\n"
   ]
  },
  {
   "cell_type": "code",
   "execution_count": 4,
   "metadata": {},
   "outputs": [
    {
     "name": "stdout",
     "output_type": "stream",
     "text": [
      "['zip_code', 'verification_status', 'purpose', 'grade', 'addr_state', 'home_ownership', 'loan_status', 'last_credit_pull_d', 'issue_d', 'earliest_cr_line', 'sub_grade']\n"
     ]
    }
   ],
   "source": [
    "num_cols = data._get_numeric_data()\n",
    "cols = data.columns\n",
    "catogory_cols = list(set(cols)-set(num_cols))\n",
    "len(catogory_cols)\n",
    "print(catogory_cols)\n"
   ]
  },
  {
   "cell_type": "code",
   "execution_count": 5,
   "metadata": {},
   "outputs": [],
   "source": [
    "# df['Month'] = pd.DatetimeIndex(df['Date']).month\n",
    "def helper(dataframe):\n",
    "    new = dataframe[\"issue_d\"].str.split(\"-\", n=1, expand=True)\n",
    "    dataframe[\"issue_date\"] = new[0]\n",
    "    dataframe[\"issue_date\"] = dataframe[\"issue_date\"].astype('int64')\n",
    "    ls = []\n",
    "    for mon in new[1]:\n",
    "        ls.append(datetime.datetime.strptime(mon, \"%b\").month)\n",
    "    dataframe[\"issue_month\"] = ls\n",
    "    dataframe[\"issue_month\"] = dataframe[\"issue_month\"].astype('int64')\n",
    "    dataframe.drop(columns=[\"issue_d\"], inplace=True)\n",
    "\n",
    "    new = dataframe[\"last_credit_pull_d\"].str.split(\"-\", n=1, expand=True)\n",
    "    dataframe[\"last_credit_pull_date\"] = new[0]\n",
    "    dataframe[\"last_credit_pull_date\"] = dataframe[\"last_credit_pull_date\"].astype(\n",
    "        'int64')\n",
    "    ls = []\n",
    "    for mon in new[1]:\n",
    "        ls.append(datetime.datetime.strptime(mon, \"%b\").month)\n",
    "    dataframe[\"last_credit_pull_month\"] = ls\n",
    "    dataframe[\"last_credit_pull_month\"] = dataframe[\"last_credit_pull_month\"].astype(\n",
    "        'int64')\n",
    "    dataframe.drop(columns=[\"last_credit_pull_d\"], inplace=True)\n"
   ]
  },
  {
   "cell_type": "code",
   "execution_count": 6,
   "metadata": {},
   "outputs": [
    {
     "name": "stderr",
     "output_type": "stream",
     "text": [
      "<ipython-input-5-2a3b1abad52c>:4: SettingWithCopyWarning: \n",
      "A value is trying to be set on a copy of a slice from a DataFrame.\n",
      "Try using .loc[row_indexer,col_indexer] = value instead\n",
      "\n",
      "See the caveats in the documentation: https://pandas.pydata.org/pandas-docs/stable/user_guide/indexing.html#returning-a-view-versus-a-copy\n",
      "  dataframe[\"issue_date\"] = new[0]\n",
      "<ipython-input-5-2a3b1abad52c>:5: SettingWithCopyWarning: \n",
      "A value is trying to be set on a copy of a slice from a DataFrame.\n",
      "Try using .loc[row_indexer,col_indexer] = value instead\n",
      "\n",
      "See the caveats in the documentation: https://pandas.pydata.org/pandas-docs/stable/user_guide/indexing.html#returning-a-view-versus-a-copy\n",
      "  dataframe[\"issue_date\"] = dataframe[\"issue_date\"].astype('int64')\n",
      "<ipython-input-5-2a3b1abad52c>:9: SettingWithCopyWarning: \n",
      "A value is trying to be set on a copy of a slice from a DataFrame.\n",
      "Try using .loc[row_indexer,col_indexer] = value instead\n",
      "\n",
      "See the caveats in the documentation: https://pandas.pydata.org/pandas-docs/stable/user_guide/indexing.html#returning-a-view-versus-a-copy\n",
      "  dataframe[\"issue_month\"] = ls\n",
      "<ipython-input-5-2a3b1abad52c>:10: SettingWithCopyWarning: \n",
      "A value is trying to be set on a copy of a slice from a DataFrame.\n",
      "Try using .loc[row_indexer,col_indexer] = value instead\n",
      "\n",
      "See the caveats in the documentation: https://pandas.pydata.org/pandas-docs/stable/user_guide/indexing.html#returning-a-view-versus-a-copy\n",
      "  dataframe[\"issue_month\"] = dataframe[\"issue_month\"].astype('int64')\n",
      "/opt/anaconda3/lib/python3.8/site-packages/pandas/core/frame.py:4308: SettingWithCopyWarning: \n",
      "A value is trying to be set on a copy of a slice from a DataFrame\n",
      "\n",
      "See the caveats in the documentation: https://pandas.pydata.org/pandas-docs/stable/user_guide/indexing.html#returning-a-view-versus-a-copy\n",
      "  return super().drop(\n",
      "<ipython-input-5-2a3b1abad52c>:14: SettingWithCopyWarning: \n",
      "A value is trying to be set on a copy of a slice from a DataFrame.\n",
      "Try using .loc[row_indexer,col_indexer] = value instead\n",
      "\n",
      "See the caveats in the documentation: https://pandas.pydata.org/pandas-docs/stable/user_guide/indexing.html#returning-a-view-versus-a-copy\n",
      "  dataframe[\"last_credit_pull_date\"] = new[0]\n",
      "<ipython-input-5-2a3b1abad52c>:15: SettingWithCopyWarning: \n",
      "A value is trying to be set on a copy of a slice from a DataFrame.\n",
      "Try using .loc[row_indexer,col_indexer] = value instead\n",
      "\n",
      "See the caveats in the documentation: https://pandas.pydata.org/pandas-docs/stable/user_guide/indexing.html#returning-a-view-versus-a-copy\n",
      "  dataframe[\"last_credit_pull_date\"] = dataframe[\"last_credit_pull_date\"].astype(\n",
      "<ipython-input-5-2a3b1abad52c>:20: SettingWithCopyWarning: \n",
      "A value is trying to be set on a copy of a slice from a DataFrame.\n",
      "Try using .loc[row_indexer,col_indexer] = value instead\n",
      "\n",
      "See the caveats in the documentation: https://pandas.pydata.org/pandas-docs/stable/user_guide/indexing.html#returning-a-view-versus-a-copy\n",
      "  dataframe[\"last_credit_pull_month\"] = ls\n",
      "<ipython-input-5-2a3b1abad52c>:21: SettingWithCopyWarning: \n",
      "A value is trying to be set on a copy of a slice from a DataFrame.\n",
      "Try using .loc[row_indexer,col_indexer] = value instead\n",
      "\n",
      "See the caveats in the documentation: https://pandas.pydata.org/pandas-docs/stable/user_guide/indexing.html#returning-a-view-versus-a-copy\n",
      "  dataframe[\"last_credit_pull_month\"] = dataframe[\"last_credit_pull_month\"].astype(\n"
     ]
    }
   ],
   "source": [
    "helper(df)\n",
    "helper(test_data)\n"
   ]
  },
  {
   "cell_type": "code",
   "execution_count": 7,
   "metadata": {},
   "outputs": [
    {
     "name": "stdout",
     "output_type": "stream",
     "text": [
      "['zip_code', 'verification_status', 'purpose', 'grade', 'addr_state', 'home_ownership', 'earliest_cr_line', 'sub_grade']\n"
     ]
    }
   ],
   "source": [
    "\n",
    "num_cols = df._get_numeric_data()\n",
    "cols = df.columns\n",
    "catogory_cols = list(set(cols)-set(num_cols))\n",
    "len(catogory_cols)\n",
    "print(catogory_cols)\n",
    "cols_to_be_encoded = ['sub_grade','verification_status',\n",
    "                      'purpose', 'home_ownership', 'grade']\n"
   ]
  },
  {
   "cell_type": "code",
   "execution_count": 8,
   "metadata": {},
   "outputs": [],
   "source": [
    "df = pd.get_dummies(df, columns=cols_to_be_encoded)\n",
    "test_data = pd.get_dummies(test_data, columns=cols_to_be_encoded)\n"
   ]
  },
  {
   "cell_type": "code",
   "execution_count": 9,
   "metadata": {},
   "outputs": [
    {
     "name": "stdout",
     "output_type": "stream",
     "text": [
      "['addr_state', 'earliest_cr_line', 'zip_code']\n"
     ]
    }
   ],
   "source": [
    "cols_to_be_catogorised = list(set(catogory_cols)-set(cols_to_be_encoded))\n",
    "print(cols_to_be_catogorised)\n",
    "df=df.drop(cols_to_be_catogorised,axis=1)\n",
    "test_data=test_data.drop(cols_to_be_catogorised,axis=1)\n"
   ]
  },
  {
   "cell_type": "code",
   "execution_count": 10,
   "metadata": {},
   "outputs": [
    {
     "name": "stdout",
     "output_type": "stream",
     "text": [
      "(24301, 94)\n",
      "(24301, 94)\n"
     ]
    }
   ],
   "source": [
    "print(df.shape)\n",
    "print(test_data.shape)"
   ]
  },
  {
   "cell_type": "code",
   "execution_count": 11,
   "metadata": {},
   "outputs": [],
   "source": [
    "y_train=df.loan_status\n",
    "X_train=df.drop(['loan_status'], axis=1)\n"
   ]
  },
  {
   "cell_type": "code",
   "execution_count": 12,
   "metadata": {},
   "outputs": [],
   "source": [
    "y_test = test_data.loan_status\n",
    "x_test = test_data.drop(['loan_status'], axis=1)\n"
   ]
  },
  {
   "cell_type": "markdown",
   "metadata": {},
   "source": [
    "PART A"
   ]
  },
  {
   "cell_type": "code",
   "execution_count": 13,
   "metadata": {},
   "outputs": [
    {
     "name": "stdout",
     "output_type": "stream",
     "text": [
      "number of decision trees = 500\n",
      "accuracy = 0.9993415908810337\n",
      "              precision    recall  f1-score   support\n",
      "\n",
      "          -1       1.00      1.00      1.00      3474\n",
      "           1       1.00      1.00      1.00     20827\n",
      "\n",
      "    accuracy                           1.00     24301\n",
      "   macro avg       1.00      1.00      1.00     24301\n",
      "weighted avg       1.00      1.00      1.00     24301\n",
      "\n",
      "\n",
      "\n"
     ]
    }
   ],
   "source": [
    "clf = GradientBoostingClassifier(n_estimators=200)\n",
    "clf.fit(X_train, y_train)\n",
    "predictions = clf.predict(x_test)\n",
    "print(\"number of decision trees =\", 500)\n",
    "print(\"accuracy =\", accuracy_score(y_test, predictions))\n",
    "print(classification_report(y_test, predictions))\n",
    "print(\"\\n\")\n"
   ]
  },
  {
   "cell_type": "markdown",
   "metadata": {},
   "source": [
    "the hyperparameters led to this accuracy are the default parameters of the GradientBoostingClassifier class of sklearn, except for n_estimators.\n",
    "List of hyperparameters and their values:\n",
    "earning_rate=0.1 (shrinkage).\n",
    "n_estimators=500 (number of trees).\n",
    "max_depth=3.\n",
    "min_samples_split=2.\n",
    "min_samples_leaf=1.\n",
    "subsample=1.0."
   ]
  },
  {
   "cell_type": "markdown",
   "metadata": {},
   "source": [
    "PART B"
   ]
  },
  {
   "cell_type": "code",
   "execution_count": 14,
   "metadata": {},
   "outputs": [
    {
     "name": "stdout",
     "output_type": "stream",
     "text": [
      "number of decision trees = 25\n",
      "accuracy = 0.9857207522324184\n",
      "              precision    recall  f1-score   support\n",
      "\n",
      "          -1       1.00      0.90      0.95      3474\n",
      "           1       0.98      1.00      0.99     20827\n",
      "\n",
      "    accuracy                           0.99     24301\n",
      "   macro avg       0.99      0.95      0.97     24301\n",
      "weighted avg       0.99      0.99      0.99     24301\n",
      "\n",
      "\n",
      "\n",
      "number of decision trees = 50\n",
      "accuracy = 0.9920990905724044\n",
      "              precision    recall  f1-score   support\n",
      "\n",
      "          -1       1.00      0.94      0.97      3474\n",
      "           1       0.99      1.00      1.00     20827\n",
      "\n",
      "    accuracy                           0.99     24301\n",
      "   macro avg       1.00      0.97      0.98     24301\n",
      "weighted avg       0.99      0.99      0.99     24301\n",
      "\n",
      "\n",
      "\n",
      "number of decision trees = 100\n",
      "accuracy = 0.9969960083947162\n",
      "              precision    recall  f1-score   support\n",
      "\n",
      "          -1       1.00      0.98      0.99      3474\n",
      "           1       1.00      1.00      1.00     20827\n",
      "\n",
      "    accuracy                           1.00     24301\n",
      "   macro avg       1.00      0.99      0.99     24301\n",
      "weighted avg       1.00      1.00      1.00     24301\n",
      "\n",
      "\n",
      "\n",
      "number of decision trees = 500\n",
      "accuracy = 1.0\n",
      "              precision    recall  f1-score   support\n",
      "\n",
      "          -1       1.00      1.00      1.00      3474\n",
      "           1       1.00      1.00      1.00     20827\n",
      "\n",
      "    accuracy                           1.00     24301\n",
      "   macro avg       1.00      1.00      1.00     24301\n",
      "weighted avg       1.00      1.00      1.00     24301\n",
      "\n",
      "\n",
      "\n",
      "number of decision trees = 1000\n",
      "accuracy = 1.0\n",
      "              precision    recall  f1-score   support\n",
      "\n",
      "          -1       1.00      1.00      1.00      3474\n",
      "           1       1.00      1.00      1.00     20827\n",
      "\n",
      "    accuracy                           1.00     24301\n",
      "   macro avg       1.00      1.00      1.00     24301\n",
      "weighted avg       1.00      1.00      1.00     24301\n",
      "\n",
      "\n",
      "\n"
     ]
    }
   ],
   "source": [
    "nums=[25,50,100,500,1000]\n",
    "for n in nums:\n",
    "    clf = GradientBoostingClassifier(n_estimators=n)\n",
    "    clf.fit(X_train, y_train)\n",
    "    predictions = clf.predict(x_test)\n",
    "    print(\"number of decision trees =\",n)\n",
    "    print(\"accuracy =\",accuracy_score(y_test, predictions))\n",
    "    print(classification_report(y_test, predictions))\n",
    "    print(\"\\n\")\n",
    "\n"
   ]
  },
  {
   "cell_type": "markdown",
   "metadata": {},
   "source": [
    "PART C"
   ]
  },
  {
   "cell_type": "code",
   "execution_count": 17,
   "metadata": {},
   "outputs": [
    {
     "name": "stdout",
     "output_type": "stream",
     "text": [
      "accuracy = 1.0\n",
      "              precision    recall  f1-score   support\n",
      "\n",
      "          -1       1.00      1.00      1.00      3474\n",
      "           1       1.00      1.00      1.00     20827\n",
      "\n",
      "    accuracy                           1.00     24301\n",
      "   macro avg       1.00      1.00      1.00     24301\n",
      "weighted avg       1.00      1.00      1.00     24301\n",
      "\n"
     ]
    }
   ],
   "source": [
    "\n",
    "clf = tree.DecisionTreeClassifier()\n",
    "clf = clf.fit(X_train, y_train)\n",
    "dec_predictions = clf.predict(x_test)\n",
    "print(\"accuracy =\",accuracy_score(y_test, dec_predictions))\n",
    "print(classification_report(y_test, dec_predictions))\n"
   ]
  }
 ],
 "metadata": {
  "interpreter": {
   "hash": "02e9f4a1a202247ab60d772ba080bd7c30e4ab0b2de6ff2c13595709e56040df"
  },
  "kernelspec": {
   "display_name": "Python 3",
   "language": "python",
   "name": "python3"
  },
  "language_info": {
   "codemirror_mode": {
    "name": "ipython",
    "version": 3
   },
   "file_extension": ".py",
   "mimetype": "text/x-python",
   "name": "python",
   "nbconvert_exporter": "python",
   "pygments_lexer": "ipython3",
   "version": "3.8.8"
  }
 },
 "nbformat": 4,
 "nbformat_minor": 2
}
