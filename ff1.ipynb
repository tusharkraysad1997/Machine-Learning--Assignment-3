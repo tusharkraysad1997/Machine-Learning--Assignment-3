{
 "cells": [
  {
   "cell_type": "code",
   "execution_count": 1,
   "id": "0f4f3dbc",
   "metadata": {},
   "outputs": [],
   "source": [
    "import pandas as pd\n",
    "import numpy as np\n",
    "import seaborn as sns\n",
    "import matplotlib.pyplot as plt"
   ]
  },
  {
   "cell_type": "code",
   "execution_count": 2,
   "id": "8964ef42",
   "metadata": {},
   "outputs": [
    {
     "data": {
      "text/plain": [
       "array([-1,  1], dtype=int64)"
      ]
     },
     "execution_count": 2,
     "metadata": {},
     "output_type": "execute_result"
    }
   ],
   "source": [
    "# Loading the preprocessed file\n",
    "df = pd.read_csv('PP_traindata.csv')\n",
    "\n",
    "df.loan_status.unique()"
   ]
  },
  {
   "cell_type": "code",
   "execution_count": 3,
   "id": "e67a3f43",
   "metadata": {},
   "outputs": [
    {
     "data": {
      "text/plain": [
       "(24301, 29)"
      ]
     },
     "execution_count": 3,
     "metadata": {},
     "output_type": "execute_result"
    }
   ],
   "source": [
    "df.shape\n"
   ]
  },
  {
   "cell_type": "code",
   "execution_count": 4,
   "id": "ec33ef76",
   "metadata": {},
   "outputs": [
    {
     "data": {
      "text/plain": [
       "(14276, 29)"
      ]
     },
     "execution_count": 4,
     "metadata": {},
     "output_type": "execute_result"
    }
   ],
   "source": [
    "df1 = pd.read_csv('PP_testdata.csv')\n",
    "df1.shape"
   ]
  },
  {
   "cell_type": "code",
   "execution_count": 5,
   "id": "2c0f3b1d",
   "metadata": {},
   "outputs": [],
   "source": [
    "import sklearn\n",
    "from sklearn.tree import DecisionTreeClassifier\n",
    "from sklearn.ensemble import GradientBoostingClassifier\n"
   ]
  },
  {
   "cell_type": "code",
   "execution_count": 6,
   "id": "bcad382e",
   "metadata": {},
   "outputs": [],
   "source": [
    "import warnings\n",
    "from sklearn.exceptions import DataConversionWarning\n",
    "warnings.filterwarnings(action='ignore', category=DataConversionWarning)\n",
    "warnings.filterwarnings(action='ignore', category=FutureWarning)"
   ]
  },
  {
   "cell_type": "code",
   "execution_count": 7,
   "id": "1efbe3a3",
   "metadata": {},
   "outputs": [],
   "source": [
    "x_train=df.iloc[:,:28]\n",
    "y_train=df.iloc[:,28:]\n",
    "x_test=df1.iloc[:,:28]\n",
    "y_test=df1.iloc[:,28:]"
   ]
  },
  {
   "cell_type": "code",
   "execution_count": 8,
   "id": "9ea40985",
   "metadata": {},
   "outputs": [],
   "source": [
    "GBoost=GradientBoostingClassifier(n_estimators=50)"
   ]
  },
  {
   "cell_type": "code",
   "execution_count": 9,
   "id": "7667597d",
   "metadata": {},
   "outputs": [],
   "source": [
    "models = []\n",
    "models.append(('GradientBoost',GBoost))"
   ]
  },
  {
   "cell_type": "code",
   "execution_count": 10,
   "id": "0e369ee0",
   "metadata": {},
   "outputs": [
    {
     "name": "stdout",
     "output_type": "stream",
     "text": [
      "Accuracy Score:  0.9723311852059401\n"
     ]
    }
   ],
   "source": [
    "from sklearn.metrics import precision_score, recall_score, f1_score, roc_auc_score, accuracy_score, classification_report\n",
    "\n",
    "\n",
    "final_model = GradientBoostingClassifier(n_estimators=20,learning_rate=0.1, max_features=6, random_state=0)\n",
    "final_model.fit(x_train, y_train)\n",
    "predicted = final_model.predict(x_test)\n",
    "print('Accuracy Score: ',accuracy_score(y_test, predicted))"
   ]
  },
  {
   "cell_type": "code",
   "execution_count": 11,
   "id": "3f34b251",
   "metadata": {},
   "outputs": [
    {
     "name": "stdout",
     "output_type": "stream",
     "text": [
      "Learning rate:  0.1\n",
      "Accuracy Score:  0.9723311852059401\n",
      "Learning rate:  0.25\n",
      "Accuracy Score:  0.9896329504062763\n",
      "Learning rate:  0.5\n",
      "Accuracy Score:  0.9920145699075371\n",
      "Learning rate:  0.75\n",
      "Accuracy Score:  0.991664331745587\n",
      "Learning rate:  1\n",
      "Accuracy Score:  0.9928551414962175\n"
     ]
    }
   ],
   "source": [
    "for learning_rate in [0.1, 0.25, 0.5, 0.75, 1]:\n",
    "    final_model = GradientBoostingClassifier(n_estimators=20,learning_rate=learning_rate, max_features=6, random_state=0)\n",
    "    final_model.fit(x_train, y_train)\n",
    "    \n",
    "    print('Learning rate: ', learning_rate)\n",
    "    print('Accuracy Score: ',final_model.score(x_test,y_test))"
   ]
  },
  {
   "cell_type": "code",
   "execution_count": 12,
   "id": "8fed3bf3",
   "metadata": {},
   "outputs": [],
   "source": [
    "model_50 = GradientBoostingClassifier(n_estimators=50, max_depth=6).fit(x_train, y_train)\n",
    "model_100 = GradientBoostingClassifier(n_estimators=100, max_depth=6).fit(x_train, y_train)\n",
    "model_200 = GradientBoostingClassifier(n_estimators=200, max_depth=6).fit(x_train, y_train)\n",
    "model_500 = GradientBoostingClassifier(n_estimators=500, max_depth=6).fit(x_train, y_train)"
   ]
  },
  {
   "cell_type": "code",
   "execution_count": 13,
   "id": "c509acb3",
   "metadata": {},
   "outputs": [
    {
     "name": "stdout",
     "output_type": "stream",
     "text": [
      "0.9870411880078453\n"
     ]
    }
   ],
   "source": [
    "model_10 = GradientBoostingClassifier(n_estimators=10, max_depth=6).fit(x_train, y_train)\n",
    "print(model_10.score(x_test,y_test))"
   ]
  },
  {
   "cell_type": "code",
   "execution_count": 14,
   "id": "edc311ac",
   "metadata": {},
   "outputs": [
    {
     "name": "stdout",
     "output_type": "stream",
     "text": [
      "0.9962874754833286\n",
      "0.9972681423367891\n",
      "0.9977584757635192\n",
      "0.9982488091902494\n"
     ]
    }
   ],
   "source": [
    "#print model_10.score(x_test,y_test)\n",
    "print(model_50.score(x_test,y_test))\n",
    "print(model_100.score(x_test,y_test))\n",
    "print(model_200.score(x_test,y_test))\n",
    "print(model_500.score(x_test,y_test))"
   ]
  },
  {
   "cell_type": "code",
   "execution_count": 15,
   "id": "ea1517a6",
   "metadata": {},
   "outputs": [
    {
     "name": "stdout",
     "output_type": "stream",
     "text": [
      "Accuracy Score:  0.9982488091902494\n"
     ]
    }
   ],
   "source": [
    "model_500 = GradientBoostingClassifier(n_estimators=500, max_depth=6).fit(x_train, y_train)\n",
    "model_500.fit(x_train, y_train)\n",
    "giniPred = model_500.predict(x_test)\n",
    "\n",
    "print('Accuracy Score: ',accuracy_score(y_test, giniPred))"
   ]
  },
  {
   "cell_type": "code",
   "execution_count": 16,
   "id": "e0293e39",
   "metadata": {},
   "outputs": [
    {
     "name": "stdout",
     "output_type": "stream",
     "text": [
      "Classification Report\n",
      "              precision    recall  f1-score   support\n",
      "\n",
      "          -1       1.00      0.99      0.99      2153\n",
      "           1       1.00      1.00      1.00     12123\n",
      "\n",
      "    accuracy                           1.00     14276\n",
      "   macro avg       1.00      0.99      1.00     14276\n",
      "weighted avg       1.00      1.00      1.00     14276\n",
      "\n"
     ]
    }
   ],
   "source": [
    "print('Classification Report')\n",
    "print(classification_report(y_test, giniPred))"
   ]
  },
  {
   "cell_type": "code",
   "execution_count": 17,
   "id": "e998d685",
   "metadata": {},
   "outputs": [
    {
     "data": {
      "text/plain": [
       "DecisionTreeClassifier(class_weight='balanced', max_depth=3, min_samples_leaf=5,\n",
       "                       random_state=100)"
      ]
     },
     "execution_count": 17,
     "metadata": {},
     "output_type": "execute_result"
    }
   ],
   "source": [
    "from sklearn.tree import DecisionTreeClassifier\n",
    "giniDecisionTree = DecisionTreeClassifier(criterion='gini',random_state = 100,max_depth=3,class_weight='balanced', min_samples_leaf=5)\n",
    "\n",
    "giniDecisionTree.fit(x_train, y_train)"
   ]
  },
  {
   "cell_type": "code",
   "execution_count": 18,
   "id": "5eda73ab",
   "metadata": {},
   "outputs": [
    {
     "name": "stdout",
     "output_type": "stream",
     "text": [
      "Accuracy Score:  0.9823479966377137\n"
     ]
    }
   ],
   "source": [
    "from sklearn.metrics import precision_score, recall_score, f1_score, roc_auc_score, accuracy_score, classification_report\n",
    "\n",
    "giniPred = giniDecisionTree.predict(x_test)\n",
    "\n",
    "print('Accuracy Score: ',accuracy_score(y_test, giniPred))"
   ]
  },
  {
   "cell_type": "code",
   "execution_count": 19,
   "id": "9ce8f0e5",
   "metadata": {},
   "outputs": [
    {
     "name": "stdout",
     "output_type": "stream",
     "text": [
      "Classification Report\n",
      "              precision    recall  f1-score   support\n",
      "\n",
      "          -1       1.00      0.88      0.94      2153\n",
      "           1       0.98      1.00      0.99     12123\n",
      "\n",
      "    accuracy                           0.98     14276\n",
      "   macro avg       0.99      0.94      0.96     14276\n",
      "weighted avg       0.98      0.98      0.98     14276\n",
      "\n"
     ]
    }
   ],
   "source": [
    "print('Classification Report')\n",
    "print(classification_report(y_test, giniPred))"
   ]
  },
  {
   "cell_type": "code",
   "execution_count": 20,
   "id": "9cff8766",
   "metadata": {},
   "outputs": [
    {
     "name": "stdout",
     "output_type": "stream",
     "text": [
      "Best Parameters using grid search: \n",
      " {'max_depth': 7, 'min_samples_leaf': 3}\n"
     ]
    }
   ],
   "source": [
    "# Tuning the parameters to find the best decision tree model.\n",
    "model = DecisionTreeClassifier(criterion='gini',random_state = 100,class_weight='balanced')\n",
    "\n",
    "param_dist = {'max_depth': [2, 3, 4,5,6,7,8,9], 'min_samples_leaf' : [2,3,4,5,6,7,8]}\n",
    "\n",
    "from sklearn.model_selection import GridSearchCV\n",
    "cv_dt = GridSearchCV(model, cv = 3,param_grid=param_dist, n_jobs = -1)\n",
    "\n",
    "cv_dt.fit(x_train, y_train)\n",
    "print('Best Parameters using grid search: \\n', cv_dt.best_params_)"
   ]
  },
  {
   "cell_type": "code",
   "execution_count": 21,
   "id": "d190a7cc",
   "metadata": {},
   "outputs": [
    {
     "name": "stdout",
     "output_type": "stream",
     "text": [
      "Accuracy Score:  0.9919445222751471\n"
     ]
    }
   ],
   "source": [
    "\n",
    "model = DecisionTreeClassifier(criterion='gini',random_state = 100,max_depth=9,class_weight='balanced', min_samples_leaf=2)\n",
    "model.fit(x_train, y_train)\n",
    "giniPred = model.predict(x_test)\n",
    "\n",
    "print('Accuracy Score: ',accuracy_score(y_test, giniPred))"
   ]
  },
  {
   "cell_type": "code",
   "execution_count": 22,
   "id": "fe6680fd",
   "metadata": {},
   "outputs": [
    {
     "name": "stdout",
     "output_type": "stream",
     "text": [
      "Classification Report\n",
      "              precision    recall  f1-score   support\n",
      "\n",
      "          -1       0.97      0.97      0.97      2153\n",
      "           1       1.00      1.00      1.00     12123\n",
      "\n",
      "    accuracy                           0.99     14276\n",
      "   macro avg       0.98      0.98      0.98     14276\n",
      "weighted avg       0.99      0.99      0.99     14276\n",
      "\n"
     ]
    }
   ],
   "source": [
    "##  Checking classification_report\n",
    "print('Classification Report')\n",
    "print(classification_report(y_test, giniPred))"
   ]
  },
  {
   "cell_type": "code",
   "execution_count": null,
   "id": "7a9862cc",
   "metadata": {},
   "outputs": [],
   "source": []
  },
  {
   "cell_type": "code",
   "execution_count": null,
   "id": "e4e81d91",
   "metadata": {},
   "outputs": [],
   "source": []
  },
  {
   "cell_type": "code",
   "execution_count": null,
   "id": "aca4c255",
   "metadata": {},
   "outputs": [],
   "source": []
  }
 ],
 "metadata": {
  "kernelspec": {
   "display_name": "Python 3",
   "language": "python",
   "name": "python3"
  },
  "language_info": {
   "codemirror_mode": {
    "name": "ipython",
    "version": 3
   },
   "file_extension": ".py",
   "mimetype": "text/x-python",
   "name": "python",
   "nbconvert_exporter": "python",
   "pygments_lexer": "ipython3",
   "version": "3.8.8"
  }
 },
 "nbformat": 4,
 "nbformat_minor": 5
}
